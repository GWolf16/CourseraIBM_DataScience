{
 "cells": [
  {
   "cell_type": "code",
   "execution_count": null,
   "id": "e61d6c87",
   "metadata": {},
   "outputs": [
    {
     "data": {
      "text/html": [
       "<div>\n",
       "<style scoped>\n",
       "    .dataframe tbody tr th:only-of-type {\n",
       "        vertical-align: middle;\n",
       "    }\n",
       "\n",
       "    .dataframe tbody tr th {\n",
       "        vertical-align: top;\n",
       "    }\n",
       "\n",
       "    .dataframe thead th {\n",
       "        text-align: right;\n",
       "    }\n",
       "</style>\n",
       "<table border=\"1\" class=\"dataframe\">\n",
       "  <thead>\n",
       "    <tr style=\"text-align: right;\">\n",
       "      <th></th>\n",
       "      <th>numero</th>\n",
       "      <th>data_hora</th>\n",
       "      <th>erb</th>\n",
       "      <th>latitude</th>\n",
       "      <th>longitude</th>\n",
       "    </tr>\n",
       "  </thead>\n",
       "  <tbody>\n",
       "    <tr>\n",
       "      <th>0</th>\n",
       "      <td>(84)91234-5678</td>\n",
       "      <td>2025-04-12 18:30:00</td>\n",
       "      <td>ERB123</td>\n",
       "      <td>-5.7367</td>\n",
       "      <td>-35.2458</td>\n",
       "    </tr>\n",
       "    <tr>\n",
       "      <th>1</th>\n",
       "      <td>(84)98765-4321</td>\n",
       "      <td>2025-04-12 18:32:00</td>\n",
       "      <td>ERB456</td>\n",
       "      <td>-5.7341</td>\n",
       "      <td>-35.2499</td>\n",
       "    </tr>\n",
       "    <tr>\n",
       "      <th>2</th>\n",
       "      <td>(84)91234-5678</td>\n",
       "      <td>2025-04-12 18:35:00</td>\n",
       "      <td>ERB123</td>\n",
       "      <td>-5.7367</td>\n",
       "      <td>-35.2458</td>\n",
       "    </tr>\n",
       "    <tr>\n",
       "      <th>3</th>\n",
       "      <td>(84)91234-5678</td>\n",
       "      <td>2025-04-12 18:40:00</td>\n",
       "      <td>ERB789</td>\n",
       "      <td>-5.7300</td>\n",
       "      <td>-35.2636</td>\n",
       "    </tr>\n",
       "    <tr>\n",
       "      <th>4</th>\n",
       "      <td>(84)99887-6655</td>\n",
       "      <td>2025-04-12 18:45:00</td>\n",
       "      <td>ERB123</td>\n",
       "      <td>-5.7367</td>\n",
       "      <td>-35.2458</td>\n",
       "    </tr>\n",
       "  </tbody>\n",
       "</table>\n",
       "</div>"
      ],
      "text/plain": [
       "           numero            data_hora     erb  latitude  longitude\n",
       "0  (84)91234-5678  2025-04-12 18:30:00  ERB123   -5.7367   -35.2458\n",
       "1  (84)98765-4321  2025-04-12 18:32:00  ERB456   -5.7341   -35.2499\n",
       "2  (84)91234-5678  2025-04-12 18:35:00  ERB123   -5.7367   -35.2458\n",
       "3  (84)91234-5678  2025-04-12 18:40:00  ERB789   -5.7300   -35.2636\n",
       "4  (84)99887-6655  2025-04-12 18:45:00  ERB123   -5.7367   -35.2458"
      ]
     },
     "metadata": {},
     "output_type": "display_data"
    }
   ],
   "source": [
    "#This is the file that i'll upload in the github plataform as a test.\n",
    "import pandas as pd\n",
    "import numpy as np\n",
    "from io import StringIO #A biblioteca IO fornece meios de trabalhar e manipulas fluxos in/output, como arquivos em disco. Útil para arquivos pequenos. A classe StringIO cria um arquivo em memória usando a String\n",
    "extratos = \"\"\"numero,data_hora,erb,latitude,longitude\n",
    "(84)91234-5678,2025-04-12 18:30:00,ERB123,-5.7367,-35.2458\n",
    "(84)98765-4321,2025-04-12 18:32:00,ERB456,-5.7341,-35.2499\n",
    "(84)91234-5678,2025-04-12 18:35:00,ERB123,-5.7367,-35.2458\n",
    "(84)91234-5678,2025-04-12 18:40:00,ERB789,-5.7300,-35.2636\n",
    "(84)99887-6655,2025-04-12 18:45:00,ERB123,-5.7367,-35.2458 \"\"\"\n",
    "#Os dados da variável estão em aspas triplas para manter a quebra de linhas/colunas, sem a necessidade de indicar isso com \\n\n",
    "tabela_teste = pd.read_csv(StringIO(extratos))\n",
    "tabela_teste.info\n",
    "display(tabela_teste)"
   ]
  }
 ],
 "metadata": {
  "kernelspec": {
   "display_name": "Python 3",
   "language": "python",
   "name": "python3"
  },
  "language_info": {
   "codemirror_mode": {
    "name": "ipython",
    "version": 3
   },
   "file_extension": ".py",
   "mimetype": "text/x-python",
   "name": "python",
   "nbconvert_exporter": "python",
   "pygments_lexer": "ipython3",
   "version": "3.13.1"
  }
 },
 "nbformat": 4,
 "nbformat_minor": 5
}
